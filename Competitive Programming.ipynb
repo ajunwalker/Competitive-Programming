{
 "cells": [
  {
   "cell_type": "markdown",
   "metadata": {},
   "source": [
    "# Mathematics"
   ]
  },
  {
   "cell_type": "markdown",
   "metadata": {},
   "source": [
    "#### Check if a value is prime"
   ]
  },
  {
   "cell_type": "code",
   "execution_count": null,
   "metadata": {
    "collapsed": false
   },
   "outputs": [],
   "source": [
    "bool isprime(int x){\n",
    "    if (x < 2) return false;\n",
    "\n",
    "    for(int i = 2; i*i <= x; i++){\n",
    "        if (x % i == 0) return false;\n",
    "    }\n",
    "    return true;\n",
    "}"
   ]
  },
  {
   "cell_type": "markdown",
   "metadata": {},
   "source": [
    "#### Find GCD"
   ]
  },
  {
   "cell_type": "code",
   "execution_count": null,
   "metadata": {
    "collapsed": true
   },
   "outputs": [],
   "source": [
    "int gcd(int a, int b){\n",
    "    return b ? gcd(b, a%b) : a;\n",
    "}"
   ]
  },
  {
   "cell_type": "markdown",
   "metadata": {},
   "source": [
    "#### Fast Exponentiation"
   ]
  },
  {
   "cell_type": "code",
   "execution_count": null,
   "metadata": {
    "collapsed": true
   },
   "outputs": [],
   "source": [
    "long long pow(long long x, long long k){\n",
    "    if (k == 0) return 1;\n",
    "\n",
    "    long long a = pow(x, k/2);\n",
    "    a = a*a;\n",
    "    if (k%2 == 1) a = a*x;\n",
    "    return a;\n",
    "}"
   ]
  },
  {
   "cell_type": "markdown",
   "metadata": {},
   "source": [
    "#  Data Structures"
   ]
  },
  {
   "cell_type": "markdown",
   "metadata": {},
   "source": [
    "#### Stack Implementation"
   ]
  },
  {
   "cell_type": "code",
   "execution_count": null,
   "metadata": {
    "collapsed": true
   },
   "outputs": [],
   "source": [
    "int stack[N];\n",
    "int head = 0;\n",
    "\n",
    "void push(int x){\n",
    "    stack[head++];\n",
    "}\n",
    "\n",
    "int pop(){\n",
    "    return stack[--head];\n",
    "}"
   ]
  },
  {
   "cell_type": "markdown",
   "metadata": {},
   "source": [
    "#### Queue Implementation"
   ]
  },
  {
   "cell_type": "code",
   "execution_count": null,
   "metadata": {
    "collapsed": true
   },
   "outputs": [],
   "source": [
    "int queue[N];\n",
    "int head = 0;\n",
    "int tail = 0;\n",
    "\n",
    "void push(int x){\n",
    "    queue[tail++] = x;\n",
    "}\n",
    "\n",
    "int pop(){\n",
    "    return queue[head++];\n",
    "}"
   ]
  },
  {
   "cell_type": "markdown",
   "metadata": {},
   "source": [
    "#### Set Usage"
   ]
  },
  {
   "cell_type": "code",
   "execution_count": null,
   "metadata": {
    "collapsed": true
   },
   "outputs": [],
   "source": [
    "#include <set>\n",
    "set<int> s;\n",
    "s.insert(3);\n",
    "for(set<int>::iterator it = s.begin(); it != s.end(); it++) *it;"
   ]
  },
  {
   "cell_type": "markdown",
   "metadata": {},
   "source": [
    "#### Map Usage"
   ]
  },
  {
   "cell_type": "code",
   "execution_count": null,
   "metadata": {
    "collapsed": true
   },
   "outputs": [],
   "source": [
    "#include <map>\n",
    "map<int,int> m;\n",
    "m[3] = 5;\n",
    "int x = freq.count(3);"
   ]
  },
  {
   "cell_type": "markdown",
   "metadata": {},
   "source": [
    "#### Union Find Implementation"
   ]
  },
  {
   "cell_type": "code",
   "execution_count": null,
   "metadata": {
    "collapsed": true
   },
   "outputs": [],
   "source": [
    "int parent[N];\n",
    "int subtree_size[N];\n",
    "\n",
    "for(int i = 0; i < N; ++i) parent[i] = i; subtree_size[i] = 1;\n",
    "\n",
    "int find(x){\n",
    "    return parent[x] == x ? x : parent[x] = find(parent[x]);\n",
    "}\n",
    "\n",
    "void union(int x, int y){\n",
    "    x = find(x);\n",
    "    y = find(y);\n",
    "\n",
    "    if (x == y) return;\n",
    "    if (subtree_size[x] < subtree_size[y]){\n",
    "        parent[x] = y;\n",
    "        subtree_size[y] += subtree_size[x];\n",
    "    }\n",
    "    else{\n",
    "        parent[y] = x;\n",
    "        subtree_size[x] += subtree_size[y];\n",
    "    }\n",
    "}"
   ]
  },
  {
   "cell_type": "markdown",
   "metadata": {},
   "source": [
    "#### Fenwick Tree Implementation"
   ]
  },
  {
   "cell_type": "code",
   "execution_count": null,
   "metadata": {
    "collapsed": true
   },
   "outputs": [],
   "source": [
    "int tree[MAX];\n",
    "\n",
    "for(int i = 0; i < MAX; ++i) tree[i] = 0;\n",
    "\n",
    "int lowbit(int i){\n",
    "    return i & (-i);\n",
    "}\n",
    "\n",
    "void add(int index,int value){\n",
    "    int temp = index;\n",
    "    while(temp<=edgeNum){\n",
    "        tree[temp] += value;\n",
    "        temp+=lowbit(temp);\n",
    "    }\n",
    "}\n",
    "\n",
    "void scale (int c) {\n",
    "    for (int i = 1; i <= n; ++i)\n",
    "    tree[i] *= c;\n",
    "}\n",
    "\n",
    "int prefixSum(int index){\n",
    "    int result = 0;\n",
    "    while(index >0){\n",
    "        result += tree[index];\n",
    "        index -= lowbit(index);\n",
    "    }\n",
    "    return result;\n",
    "}\n",
    "\n",
    "add(i,value);"
   ]
  },
  {
   "cell_type": "markdown",
   "metadata": {},
   "source": [
    "#### Segment Tree Implementation"
   ]
  },
  {
   "cell_type": "code",
   "execution_count": null,
   "metadata": {
    "collapsed": false,
    "scrolled": true
   },
   "outputs": [],
   "source": [
    "#define INF 0x3f3f3f3f\n",
    "int n;\n",
    "int data[2*n+1];\n",
    "\n",
    "void update(int index, int val){\n",
    "    index += n;\n",
    "    data[index] = val;\n",
    "    while(index > 1){\n",
    "        index /= 2;\n",
    "        data[index] = min(data[2*index],data[2*index+1]);\n",
    "    }\n",
    "}\n",
    "\n",
    "int minimum(int left,int right){ //[left,right)\n",
    "    int result = INF;\n",
    "    left += n;\n",
    "    right += n;\n",
    "    while(left < right){\n",
    "        if(left & 1){\n",
    "            result = min(result,data[left++]);\n",
    "        }\n",
    "        if(right & 1){\n",
    "            result = min(result,data[--right]);\n",
    "        }\n",
    "        left >>= 1;\n",
    "        right >>= 1;\n",
    "    }\n",
    "    return result;\n",
    "}"
   ]
  },
  {
   "cell_type": "markdown",
   "metadata": {},
   "source": [
    "# Graph Theory"
   ]
  },
  {
   "cell_type": "markdown",
   "metadata": {},
   "source": [
    "#### Depth First Search"
   ]
  },
  {
   "cell_type": "code",
   "execution_count": null,
   "metadata": {
    "collapsed": true
   },
   "outputs": [],
   "source": [
    "bool seen[N];\n",
    "for(int i = 0; i < N; ++i) seen[i] = false;\n",
    "\n",
    "void dfs(int u){\n",
    "    seen[u] = true;\n",
    "    for(int i = 0; i < graph[u].size(); ++i){\n",
    "        if (!seen[graph[u][i]]) dfs(graph[u][i]);\n",
    "    }\n",
    "}"
   ]
  },
  {
   "cell_type": "markdown",
   "metadata": {},
   "source": [
    "#### Directed Graph Cycle Detection"
   ]
  },
  {
   "cell_type": "code",
   "execution_count": null,
   "metadata": {
    "collapsed": true
   },
   "outputs": [],
   "source": [
    "bool has_cycle(int u){\n",
    "    if (seen[u]) return false;\n",
    "    seen[u] = true;\n",
    "    active[u] = true;\n",
    "    for(int i = 0; i < graph[u].size(); ++i){\n",
    "        if(active[graph[u][i]] || has_cycle(graph[u][i])){\n",
    "            return true;\n",
    "        }\n",
    "    }\n",
    "    active[u] = false;\n",
    "    return false;\n",
    "}"
   ]
  },
  {
   "cell_type": "markdown",
   "metadata": {},
   "source": [
    "#### Topological Sort"
   ]
  },
  {
   "cell_type": "code",
   "execution_count": null,
   "metadata": {
    "collapsed": true
   },
   "outputs": [],
   "source": [
    "void dfs(int u, vector<int> &postorder){\n",
    "    seen[u] = true;\n",
    "    for(int i = 0; i < graph[u].size(); ++i){\n",
    "        if (!seen[graph[u][i]]) dfs(graph[u][i]);\n",
    "    }\n",
    "    postorder.push_back(u);\n",
    "}\n",
    "\n",
    "vector<int> topsort(){\n",
    "    vector<int> res;\n",
    "    for(int i = 0; i < n; ++i) dfs(i,res);\n",
    "    reverse(res.begin(), res.end());\n",
    "    return res;\n",
    "}"
   ]
  },
  {
   "cell_type": "markdown",
   "metadata": {},
   "source": [
    "#### Kruskal's Algorithm"
   ]
  },
  {
   "cell_type": "code",
   "execution_count": null,
   "metadata": {
    "collapsed": true
   },
   "outputs": [],
   "source": [
    "struct edge {\n",
    "    int u, v, w;\n",
    "};\n",
    "\n",
    "bool operator < (const edge & a, const edge & b) {\n",
    "    return a.w < b.w;\n",
    "}\n",
    "\n",
    "edge edges [N];\n",
    "int p[N];\n",
    "int root(int u) ; # union - find root with path compression\n",
    "void join(int u, int v); # union - find join with size heuristic\n",
    "\n",
    "int mst () {\n",
    "    sort(edges , edges +m) ; // sort by increasing weight\n",
    "    int total_weight = 0;\n",
    "    for (int i = 0; i < m; i ++) {\n",
    "        edge & e = edges [i];\n",
    "        # if the endpoints are in different trees, join them\n",
    "        if (root (e.u) != root (e.v)) {\n",
    "            total_weight += e.w;\n",
    "            join (e.u, e.v);\n",
    "        }\n",
    "    }\n",
    "    return total_weight ;\n",
    "}"
   ]
  },
  {
   "cell_type": "markdown",
   "metadata": {},
   "source": [
    "#### Bridges and Articulation Point Finding"
   ]
  },
  {
   "cell_type": "code",
   "execution_count": null,
   "metadata": {
    "collapsed": false
   },
   "outputs": [],
   "source": [
    "void dfs (int u, int from = -1) {\n",
    "    preorder[u] = T++;\n",
    "    low[u] = preorder[u];\n",
    "    for (int i = 0; i < graph[u].size(); ++i) {\n",
    "        int v = graph[u][i];\n",
    "        \n",
    "        # ignore the edge to our parent in the dfs\n",
    "        if (v == from) continue ;\n",
    "    \n",
    "        # update the lowest value in the preorder sequence that we can reach\n",
    "        if (preorder[v] != -1) low[u] = min (low[u], preorder[v]) ;\n",
    "        else {\n",
    "            dfs(v, u);\n",
    "            low [u] = min (low [u], low [v]) ;\n",
    "            # if we haven’t visited v before , check to see if we have a bridge\n",
    "            if ( low [v] == preorder[v])\n",
    "                bridges.insert(make_pair(min(u, v), max (u, v)));\n",
    "        }\n",
    "    }\n",
    "}"
   ]
  },
  {
   "cell_type": "markdown",
   "metadata": {},
   "source": [
    "#### Kosaraju's Algorithm (SCC)"
   ]
  },
  {
   "cell_type": "code",
   "execution_count": null,
   "metadata": {
    "collapsed": true
   },
   "outputs": [],
   "source": [
    "int p = 0\n",
    "bool seen[N];\n",
    "bool seen_r[N];\n",
    "int scc[N];\n",
    "int postorder[N];\n",
    "\n",
    "for(int i = 0; i < N; ++i) seen[i] = false;\n",
    "for(int i = 0; i < N; ++i) seen_r[i] = false;\n",
    "\n",
    "void dfs(int u){\n",
    "    if (seen [u]) return;\n",
    "    seen[u] = true ;\n",
    "    for (int i = 0; i < graph[u].size(); i++)\n",
    "        dfs(graph[u][i]);\n",
    "    postorder[p++] = u;\n",
    "}\n",
    "\n",
    "void dfs_r(int u, int mark ){\n",
    "    if (seen_r[u]) return;\n",
    "    seen_r[u] = true;\n",
    "    scc[u] = mark;\n",
    "    for (int i = 0; i < graph[u].size(); i++)\n",
    "        dfs_r(graph[u][i], mark);\n",
    "}\n",
    "\n",
    "int compute_sccs(){\n",
    "    int sccs = 0;\n",
    "    for (int i = 1; i <= n; i++)\n",
    "        if (!seen[i]) dfs(i);\n",
    "\n",
    "    for (int i = p - 1; i >= 0; i--) {\n",
    "        int u = postorder [i];\n",
    "        if (! seen_r [u]) dfs_r (u, sccs++) ;\n",
    "    }\n",
    "    return sccs;\n",
    "}"
   ]
  },
  {
   "cell_type": "markdown",
   "metadata": {},
   "source": [
    "# Shortest Paths"
   ]
  },
  {
   "cell_type": "markdown",
   "metadata": {},
   "source": [
    "#### Dijkstra"
   ]
  },
  {
   "cell_type": "code",
   "execution_count": null,
   "metadata": {
    "collapsed": true
   },
   "outputs": [],
   "source": [
    "typedef pair<int,int> edge;\n",
    "\n",
    "vector<int> dijkstra(int start){\n",
    "\n",
    "    bool seen[N];\n",
    "    for(int i = 0; i < N; ++i) seen[i] = false;\n",
    "    vector<int> dist(N);\n",
    "    priority_queue<edge, vector<edge>, greater<edge> > pq;\n",
    "    pq.push(edge(0,start));\n",
    "\n",
    "    while(!pq.empty()){\n",
    "\n",
    "        edge curr = pq.top();\n",
    "        pq.pop();\n",
    "\n",
    "        int v = curr.second, d = curr.first;\n",
    "        if (seen[v]) continue;\n",
    "\n",
    "        dist[v] = d;\n",
    "        seen[v] = true;\n",
    "\n",
    "        for(int i = 0; i < graph[v].size(); ++i){\n",
    "            edge next = graph[v][i];\n",
    "            int u = next.second, next_d = next.first;\n",
    "            if (!seen[u]) pq.push(edge(d+next_d), u);\n",
    "        }\n",
    "    }\n",
    "    return dist;\n",
    "}"
   ]
  },
  {
   "cell_type": "markdown",
   "metadata": {},
   "source": [
    "#### Bellman Ford"
   ]
  },
  {
   "cell_type": "code",
   "execution_count": null,
   "metadata": {
    "collapsed": true
   },
   "outputs": [],
   "source": [
    "struct edge {\n",
    "    int u, v, w;\n",
    "    edge(int _u, int _v, int _w) : u(_u) , v(_v) , w(_w) {}\n",
    "};\n",
    "\n",
    "vector <int > dist (n);\n",
    "vector <edge > edges ;\n",
    "\n",
    "bool relax(){\n",
    "    bool relaxed = false;\n",
    "    for ( auto e = edges . begin () ; e != edges . end () ; e ++) {\n",
    "        if ( dist [e->v] > dist [e->u] + e- >w)\n",
    "            relaxed = true ;\n",
    "        dist [e- >v] = min ( dist [e->v], dist [e- >u] + e->w) ;\n",
    "    }\n",
    "    return relaxed ;\n",
    "}\n",
    "\n",
    "vector <int > check_neg_cycle () {\n",
    "    fill ( dist . begin () , dist . end () , INF );\n",
    "    for (int i = 0; i < n - 1; i ++)\n",
    "        edges . push_back ( edge (n - 1 , i, 0) );\n",
    "    dist [n - 1] = 0;\n",
    "\n",
    "    for (int i = 0; i < n - 1; i ++)\n",
    "        relax () ;\n",
    "\n",
    "    vector <int > res ;\n",
    "    for ( auto e = edges . begin () ; e != edges . end () ; e ++)\n",
    "        if (dist[e->v] > dist[e->u] + e-> w)\n",
    "            res.push_back(e->v) ;\n",
    "    queue<int> q;\n",
    "    vector<bool> seen(n);\n",
    "    for ( auto it = res . begin () ; it != res. end () ; it ++) {\n",
    "        q.push(*it);\n",
    "        seen[*it] = true;\n",
    "    }\n",
    "    vector <int > real_res ;\n",
    "    while (!q. empty () ) {\n",
    "        int u = q.front();\n",
    "        real_res.push_back(u);\n",
    "        for ( auto e = edges . begin () ; e != edges . end () ; e ++)\n",
    "            if (e->u == u && !seen[e->v]){\n",
    "                seen[e->v] = true;\n",
    "                q.push(e->v);\n",
    "            }\n",
    "        q.pop();\n",
    "    }\n",
    "    return real_res;\n",
    "}"
   ]
  },
  {
   "cell_type": "markdown",
   "metadata": {},
   "source": [
    "#### Floyd Warshall"
   ]
  },
  {
   "cell_type": "code",
   "execution_count": null,
   "metadata": {
    "collapsed": true
   },
   "outputs": [],
   "source": [
    "void floyd(int n){\n",
    "    for(int i = 0; i < n; ++i){\n",
    "        for(int u = 0; u < n; ++i){\n",
    "            for(int v = 0; v < n; ++v){\n",
    "                dist[u][v] = min(dist[u][v], dist[u][i]+dist[i][v]);\n",
    "            }\n",
    "        }\n",
    "    }\n",
    "}"
   ]
  },
  {
   "cell_type": "markdown",
   "metadata": {},
   "source": [
    "# Network Flow"
   ]
  },
  {
   "cell_type": "markdown",
   "metadata": {},
   "source": [
    "#### Edmonds Karp"
   ]
  },
  {
   "cell_type": "code",
   "execution_count": null,
   "metadata": {
    "collapsed": true
   },
   "outputs": [],
   "source": [
    "int v; #number of nodes,start from 1\n",
    "int graph[MAX][MAX];\n",
    " \n",
    "bool bfs(int source,int dest, int* path){\n",
    "    queue<int> q;\n",
    "    bool visited[v];\n",
    "    for(int i = 0; i < v; ++i) visited[i] = false;\n",
    "    \n",
    "    q.push(source);\n",
    "    visited[source] = true;\n",
    "    path[source] = -1;\n",
    "    \n",
    "    while(!q.empty()){\n",
    "        int curr_node = q.front();\n",
    "        q.pop();\n",
    "        for(int next = 0; next < v; ++next){\n",
    "            if(visited[next] == false && graph[curr_node][next] > 0){\n",
    "                q.push(next);\n",
    "                path[next] = curr_node;\n",
    "                visited[next] = true;\n",
    "            }\n",
    "        }\n",
    "    }\n",
    "    return visited[dest];\n",
    "}\n",
    "\n",
    "int karp(int source,int sink){\n",
    "\n",
    "    int curr_node, max_flow = 0, path[v];\n",
    "\n",
    "    while(bfs(source,sink,path)){\n",
    "        int path_flow = INT_MAX;\n",
    "        for(curr_node = sink; curr_node != source; curr_node = path[curr_node]){\n",
    "            int parent_node = path[curr_node];\n",
    "            path_flow = min(path_flow, graph[parent_node][curr_node]);\n",
    "        }\n",
    "        for(curr_node = sink; curr_node != source; curr_node = path[curr_node]){\n",
    "            int parent_node = path[curr_node];\n",
    "            graph[parent_node][curr_node] -= path_flow;\n",
    "            graph[curr_node][parent_node] += path_flow;\n",
    "        }\n",
    "        max_flow += path_flow;\n",
    "    }\n",
    "    return max_flow;\n",
    "}"
   ]
  },
  {
   "cell_type": "markdown",
   "metadata": {},
   "source": [
    "# String Algorithms"
   ]
  },
  {
   "cell_type": "markdown",
   "metadata": {},
   "source": [
    "#### Polynomial Hashing"
   ]
  },
  {
   "cell_type": "code",
   "execution_count": null,
   "metadata": {
    "collapsed": true
   },
   "outputs": [],
   "source": [
    "void init(int n, int s[]){\n",
    "    int B = 2423;\n",
    "    P[0] = 1;\n",
    "    for(int i = 1; i < n; ++i){\n",
    "        P[i] = P[i+1]*B;\n",
    "    }\n",
    "\n",
    "    H[0] = 0;\n",
    "    for(int i = 1; i <= n; ++i){\n",
    "        H[i] = H[i-1] + s[i-1]*P[n-i];\n",
    "    }\n",
    "}\n",
    "\n",
    "int hash(int i, int j){\n",
    "    return (H[j]-H[i])*P[i];\n",
    "}"
   ]
  },
  {
   "cell_type": "markdown",
   "metadata": {},
   "source": [
    "#### Suffix Array"
   ]
  },
  {
   "cell_type": "code",
   "execution_count": null,
   "metadata": {
    "collapsed": true
   },
   "outputs": [],
   "source": [
    "int  pos[MAXN], rankk[MAXN], tmp[MAXN], lcp[MAXN];\n",
    "int  cmpsz;\n",
    "int  length;\n",
    "string s;\n",
    "\n",
    "bool  sufcmp(int i, int j) {\n",
    "    return  rankk[i] == rankk[j] ? (i + cmpsz  < length  && j + cmpsz  <\n",
    "    length ? rankk[i + cmpsz] < rankk[j + cmpsz] : i > j) : rankk[i] <\n",
    "    rankk[j];\n",
    "}\n",
    "\n",
    "void  construct_sa () {\n",
    "    length = s.size();\n",
    "    for (int i = 0; i < length; i++) {\n",
    "        pos[i] = i;\n",
    "        rankk[i] = s[i];\n",
    "    }\n",
    "    for (cmpsz = 1;  cmpsz  >> 1 < length; cmpsz +=  cmpsz) {\n",
    "        sort(pos , pos + length , sufcmp);\n",
    "        for (int i = 1; i < length; i++)\n",
    "            tmp[i] = tmp[i - 1] + sufcmp(pos[i - 1], pos[i]);\n",
    "        for (int i = 0; i < length; i++)\n",
    "            rankk[pos[i]] = tmp[i];\n",
    "    }\n",
    "    lcp [0] = 0;\n",
    "    for (int i = 0, h = 0; i < length; i++){\n",
    "        if (rankk[i] > 0) {\n",
    "            for (int j = pos[rankk[i] - 1]; s[i + h] == s[j + h]; h++){\n",
    "                lcp[rankk[i]] = h;\n",
    "            }\n",
    "            if (h > 0)\n",
    "                h--;\n",
    "        }\n",
    "    }\n",
    "}"
   ]
  },
  {
   "cell_type": "markdown",
   "metadata": {},
   "source": [
    "# Computational Geometry"
   ]
  },
  {
   "cell_type": "markdown",
   "metadata": {},
   "source": [
    "#### Check Segment Intersection Angle"
   ]
  },
  {
   "cell_type": "code",
   "execution_count": null,
   "metadata": {
    "collapsed": true
   },
   "outputs": [],
   "source": [
    "pt operator -( pt a, pt b){\n",
    "    return pt(a.x - b.x, a.y - b.y) ;\n",
    "}\n",
    "\n",
    "double cross (pt a, pt b){\n",
    "    return a.x*b.y - a.y*b.x;\n",
    "}\n",
    "\n",
    "# Left -> > 0, Right -> < 0, Straight -> = 0\n",
    "bool ccw (pt a, pt b, pt c){\n",
    "    return cross (b - a, c - a) >= 0;\n",
    "}"
   ]
  },
  {
   "cell_type": "markdown",
   "metadata": {},
   "source": [
    "#### Polygon Area"
   ]
  },
  {
   "cell_type": "code",
   "execution_count": null,
   "metadata": {
    "collapsed": true
   },
   "outputs": [],
   "source": [
    "double area (vector <pt> pts){\n",
    "    double res = 0;\n",
    "    int n = pts.size();\n",
    "    for (int i = 0; i < n; i++)\n",
    "        res += (pts[i].y + pts[(i+1)%n].y) *( pts[(i+1)%n].x - pts[i].x);\n",
    "    return res/2.0;\n",
    "}"
   ]
  },
  {
   "cell_type": "markdown",
   "metadata": {},
   "source": [
    "#### Convex Hull"
   ]
  },
  {
   "cell_type": "code",
   "execution_count": null,
   "metadata": {
    "collapsed": true
   },
   "outputs": [],
   "source": [
    "vector<pt> half_hull(vector<pt> pts){\n",
    "    vector<pt> res;\n",
    "    for (int i = 0; i < pts.size(); i++) {\n",
    "        while (res.size() >= 2 && ccw(pts[i], res[res.size()-1] , res[res.size()-2]))\n",
    "            res.pop_back();\n",
    "        res.push_back(pts[i]);\n",
    "    }\n",
    "    return res ;\n",
    "}\n",
    "\n",
    "vector<pt> convex_hull(vector<pt> pts){\n",
    "    sort(pts.begin(), pts.end());\n",
    "    vector<pt> top = half_hull(pts);\n",
    "    reverse (pts.begin(), pts.end());\n",
    "    vector<pt> bottom = half_hull(pts);\n",
    "    top.pop_back();\n",
    "    bottom.pop_back();\n",
    "    vector<pt> res(top.begin(), top.end());\n",
    "    res.insert(res.end(), bottom.begin(), bottom.end());\n",
    "    return res;\n",
    "}"
   ]
  },
  {
   "cell_type": "markdown",
   "metadata": {},
   "source": [
    "#### Half Plane Intersection"
   ]
  },
  {
   "cell_type": "code",
   "execution_count": null,
   "metadata": {
    "collapsed": true
   },
   "outputs": [],
   "source": [
    "struct pt{\n",
    "    double x, y;\n",
    "    pt(double x = 0, double y = 0) : x(x), y(y){}\n",
    "};\n",
    "\n",
    "struct ln{\n",
    "    pt a, b;\n",
    "    ln(pt a = pt(0,0), pt b = pt(0,0)) : a(a), b(b){}\n",
    "};\n",
    "\n",
    "bool cmp(ln a, ln b){\n",
    "    return atan2(a.b.y, a.b.x) < atan2(b.b.y, b.b.x);\n",
    "}\n",
    "\n",
    "pt operator - (pt a, pt b){\n",
    "    return pt(a.x - b.x, a.y - b.y);\n",
    "}\n",
    "\n",
    "double cp(pt a,pt b){\n",
    "    return a.x * b.y - a.y * b.x;\n",
    "}\n",
    "\n",
    "pt normal(pt a){\n",
    "    double dotProduct = pow(a.x,2) + pow(a.y,2);\n",
    "    double length = sqrt(dotProduct);\n",
    "    return pt(-a.y/length,a.x/length);\n",
    "}\n",
    "\n",
    "bool left(ln l, pt p){\n",
    "    return (cp(l.b, p-l.a) >= -1e-9);\n",
    "}\n",
    "\n",
    "pt intersection(ln a, ln b){\n",
    "    double c1 = cp(b.b, a.a-b.a);\n",
    "    double c2 = cp(a.b,b.b);\n",
    "    a.a.x += a.b.x*(c1/c2);\n",
    "    a.a.y += a.b.y*(c1/c2);\n",
    "    return a.a;\n",
    "}\n",
    "\n",
    "void planeIntersections(vector<ln> lines, int N){\n",
    "    int start = 0, end = 0;\n",
    "    vector<pt> temp(N), res;\n",
    "    vector<ln> subset(N, lines[0]);\n",
    "\n",
    "    for(int i = 1; i < N; i++){\n",
    "\n",
    "        # Remove all lines that are to the left of the new intersection\n",
    "        for(;start < end && !left(lines[i], temp[end-1]); --end);\n",
    "        for(;start < end && !left(lines[i], temp[start]); start++);\n",
    "        subset[++end] = lines[i];\n",
    "        if(fabs(cp(subset[end].b, subset[end-1].b)) < 1e-9){\n",
    "            if(left(subset[--end], lines[i].a)) subset[end] = lines[i];\n",
    "        }\n",
    "        if(start < end) temp[end-1] = intersection(subset[end-1], subset[end]);\n",
    "    }\n",
    "    for(;start < end && !left(subset[start], temp[end-1]); end--);\n",
    "    for(int i = start; i < end && end-1 - start > 1; i++) res.push_back(temp[i]);\n",
    "    res.push_back(intersection(subset[end], subset[start]));\n",
    "    return res;\n",
    "}"
   ]
  }
 ],
 "metadata": {
  "anaconda-cloud": {},
  "kernelspec": {
   "display_name": "Python [Root]",
   "language": "python",
   "name": "Python [Root]"
  },
  "language_info": {
   "codemirror_mode": {
    "name": "ipython",
    "version": 3
   },
   "file_extension": ".py",
   "mimetype": "text/x-python",
   "name": "python",
   "nbconvert_exporter": "python",
   "pygments_lexer": "ipython3",
   "version": "3.5.2"
  }
 },
 "nbformat": 4,
 "nbformat_minor": 0
}
